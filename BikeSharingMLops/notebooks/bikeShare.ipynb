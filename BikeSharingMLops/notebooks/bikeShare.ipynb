{
 "cells": [
  {
   "cell_type": "code",
   "execution_count": 3,
   "id": "a3c43c20-5ba0-4d0c-9109-41dbe15bde87",
   "metadata": {},
   "outputs": [
    {
     "data": {
      "text/html": [
       "<div>\n",
       "<style scoped>\n",
       "    .dataframe tbody tr th:only-of-type {\n",
       "        vertical-align: middle;\n",
       "    }\n",
       "\n",
       "    .dataframe tbody tr th {\n",
       "        vertical-align: top;\n",
       "    }\n",
       "\n",
       "    .dataframe thead th {\n",
       "        text-align: right;\n",
       "    }\n",
       "</style>\n",
       "<table border=\"1\" class=\"dataframe\">\n",
       "  <thead>\n",
       "    <tr style=\"text-align: right;\">\n",
       "      <th></th>\n",
       "      <th>datetime</th>\n",
       "      <th>season</th>\n",
       "      <th>holiday</th>\n",
       "      <th>workingday</th>\n",
       "      <th>weather</th>\n",
       "      <th>temp</th>\n",
       "      <th>atemp</th>\n",
       "      <th>humidity</th>\n",
       "      <th>windspeed</th>\n",
       "      <th>casual</th>\n",
       "      <th>registered</th>\n",
       "      <th>count</th>\n",
       "    </tr>\n",
       "  </thead>\n",
       "  <tbody>\n",
       "    <tr>\n",
       "      <th>0</th>\n",
       "      <td>2011-01-01 00:00:00</td>\n",
       "      <td>1</td>\n",
       "      <td>0</td>\n",
       "      <td>0</td>\n",
       "      <td>1</td>\n",
       "      <td>9.84</td>\n",
       "      <td>14.395</td>\n",
       "      <td>81</td>\n",
       "      <td>0.0</td>\n",
       "      <td>3</td>\n",
       "      <td>13</td>\n",
       "      <td>16</td>\n",
       "    </tr>\n",
       "    <tr>\n",
       "      <th>1</th>\n",
       "      <td>2011-01-01 01:00:00</td>\n",
       "      <td>1</td>\n",
       "      <td>0</td>\n",
       "      <td>0</td>\n",
       "      <td>1</td>\n",
       "      <td>9.02</td>\n",
       "      <td>13.635</td>\n",
       "      <td>80</td>\n",
       "      <td>0.0</td>\n",
       "      <td>8</td>\n",
       "      <td>32</td>\n",
       "      <td>40</td>\n",
       "    </tr>\n",
       "    <tr>\n",
       "      <th>2</th>\n",
       "      <td>2011-01-01 02:00:00</td>\n",
       "      <td>1</td>\n",
       "      <td>0</td>\n",
       "      <td>0</td>\n",
       "      <td>1</td>\n",
       "      <td>9.02</td>\n",
       "      <td>13.635</td>\n",
       "      <td>80</td>\n",
       "      <td>0.0</td>\n",
       "      <td>5</td>\n",
       "      <td>27</td>\n",
       "      <td>32</td>\n",
       "    </tr>\n",
       "    <tr>\n",
       "      <th>3</th>\n",
       "      <td>2011-01-01 03:00:00</td>\n",
       "      <td>1</td>\n",
       "      <td>0</td>\n",
       "      <td>0</td>\n",
       "      <td>1</td>\n",
       "      <td>9.84</td>\n",
       "      <td>14.395</td>\n",
       "      <td>75</td>\n",
       "      <td>0.0</td>\n",
       "      <td>3</td>\n",
       "      <td>10</td>\n",
       "      <td>13</td>\n",
       "    </tr>\n",
       "    <tr>\n",
       "      <th>4</th>\n",
       "      <td>2011-01-01 04:00:00</td>\n",
       "      <td>1</td>\n",
       "      <td>0</td>\n",
       "      <td>0</td>\n",
       "      <td>1</td>\n",
       "      <td>9.84</td>\n",
       "      <td>14.395</td>\n",
       "      <td>75</td>\n",
       "      <td>0.0</td>\n",
       "      <td>0</td>\n",
       "      <td>1</td>\n",
       "      <td>1</td>\n",
       "    </tr>\n",
       "  </tbody>\n",
       "</table>\n",
       "</div>"
      ],
      "text/plain": [
       "              datetime  season  holiday  workingday  weather  temp   atemp  \\\n",
       "0  2011-01-01 00:00:00       1        0           0        1  9.84  14.395   \n",
       "1  2011-01-01 01:00:00       1        0           0        1  9.02  13.635   \n",
       "2  2011-01-01 02:00:00       1        0           0        1  9.02  13.635   \n",
       "3  2011-01-01 03:00:00       1        0           0        1  9.84  14.395   \n",
       "4  2011-01-01 04:00:00       1        0           0        1  9.84  14.395   \n",
       "\n",
       "   humidity  windspeed  casual  registered  count  \n",
       "0        81        0.0       3          13     16  \n",
       "1        80        0.0       8          32     40  \n",
       "2        80        0.0       5          27     32  \n",
       "3        75        0.0       3          10     13  \n",
       "4        75        0.0       0           1      1  "
      ]
     },
     "execution_count": 3,
     "metadata": {},
     "output_type": "execute_result"
    }
   ],
   "source": [
    "import pandas as pd\n",
    "import matplotlib.pyplot as plt\n",
    "data = pd.read_csv(\"../data/train.csv\")\n",
    "data.head()"
   ]
  },
  {
   "cell_type": "markdown",
   "id": "fe398d3b-a532-4624-a2c5-63905550d4d4",
   "metadata": {},
   "source": [
    "## Data Cleaning"
   ]
  },
  {
   "cell_type": "code",
   "execution_count": 4,
   "id": "34e5569b-214b-4cd4-b58d-582d9c2caf6c",
   "metadata": {},
   "outputs": [
    {
     "name": "stdout",
     "output_type": "stream",
     "text": [
      "datetime      0\n",
      "season        0\n",
      "holiday       0\n",
      "workingday    0\n",
      "weather       0\n",
      "temp          0\n",
      "atemp         0\n",
      "humidity      0\n",
      "windspeed     0\n",
      "casual        0\n",
      "registered    0\n",
      "count         0\n",
      "dtype: int64\n"
     ]
    }
   ],
   "source": [
    "# Check for missing values\n",
    "missing_values = data.isnull().sum()\n",
    "print(missing_values)"
   ]
  },
  {
   "cell_type": "code",
   "execution_count": 5,
   "id": "fd6c50fe-3ed2-418d-9a2e-637b641aafa0",
   "metadata": {},
   "outputs": [
    {
     "data": {
      "image/png": "[encoded data removed]",
      "text/plain": [
       "<Figure size 640x480 with 1 Axes>"
      ]
     },
     "metadata": {},
     "output_type": "display_data"
    }
   ],
   "source": [
    "# Box plot to detect outliers in windspeed\n",
    "plt.boxplot(data['windspeed'])\n",
    "plt.title('Windspeed Outliers')\n",
    "plt.show()\n",
    "# Cap windspeed at a maximum threshold if necessary\n",
    "data['windspeed'] = data['windspeed'].clip(upper=40)"
   ]
  },
  {
   "cell_type": "code",
   "execution_count": 6,
   "id": "072b9de3-d0ca-4e1b-9ae4-f256f034a5b0",
   "metadata": {},
   "outputs": [],
   "source": [
    "# Remove rows with negative or erroneous values\n",
    "data = data[data['temp'] >= 0]"
   ]
  },
  {
   "cell_type": "markdown",
   "id": "1a365964-54be-44d9-a665-80ad9dd342a2",
   "metadata": {},
   "source": [
    "## Feature Engineering"
   ]
  },
  {
   "cell_type": "code",
   "execution_count": 8,
   "id": "cf96e0f1-70ce-4b38-ab91-0ece5a7cef10",
   "metadata": {},
   "outputs": [],
   "source": [
    "# Convert 'datetime' column to datetime object\n",
    "data['datetime'] = pd.to_datetime(data['datetime'])\n",
    "\n",
    "# Create new features\n",
    "data['hour'] = data['datetime'].dt.hour\n",
    "data['day_of_week'] = data['datetime'].dt.dayofweek\n",
    "data['month'] = data['datetime'].dt.month"
   ]
  },
  {
   "cell_type": "code",
   "execution_count": 9,
   "id": "7e38a18c-3cab-4571-925f-92d02fa7240b",
   "metadata": {},
   "outputs": [],
   "source": [
    "# Create binary weather features\n",
    "data['is_clear_weather'] = (data['weather'] == 1).astype(int)\n",
    "data['is_rainy_weather'] = (data['weather'] >= 3).astype(int)"
   ]
  },
  {
   "cell_type": "code",
   "execution_count": 10,
   "id": "82bd680e-da13-4e22-a24f-64c741125b40",
   "metadata": {},
   "outputs": [],
   "source": [
    "# Create a combined feature for holidays and working days\n",
    "data['is_holiday_workingday'] = ((data['holiday'] == 1) & (data['workingday'] == 1)).astype(int)"
   ]
  },
  {
   "cell_type": "code",
   "execution_count": 11,
   "id": "c59a7c4b-3e37-4185-9b26-b30492e30057",
   "metadata": {},
   "outputs": [],
   "source": [
    "data.drop(columns=[\"datetime\"], inplace=True)"
   ]
  },
  {
   "cell_type": "markdown",
   "id": "01663714-3741-4c56-9275-794462cd0105",
   "metadata": {},
   "source": [
    "## Data Split"
   ]
  },
  {
   "cell_type": "code",
   "execution_count": 12,
   "id": "e2d06403-928e-4c00-9402-cdb8b2cece0a",
   "metadata": {},
   "outputs": [
    {
     "name": "stdout",
     "output_type": "stream",
     "text": [
      "Training data size: (8708, 16)\n",
      "Testing data size: (2178, 16)\n"
     ]
    }
   ],
   "source": [
    "from sklearn.model_selection import train_test_split\n",
    "# Split the data into features and target\n",
    "X = data.drop(columns=[\"count\"])  # Features (all columns except 'count')\n",
    "y = data[\"count\"]  # Target variable\n",
    "# Perform an 80-20 train-test split\n",
    "X_train, X_test, y_train, y_test = train_test_split(X, y, test_size=0.2, random_state=42)\n",
    "# Verify the split\n",
    "print(f\"Training data size: {X_train.shape}\")\n",
    "print(f\"Testing data size: {X_test.shape}\")"
   ]
  },
  {
   "cell_type": "markdown",
   "id": "9eeb808e-bb12-4e4d-83fe-90daab816770",
   "metadata": {},
   "source": [
    "## Starting MLFlow run and Logging"
   ]
  },
  {
   "cell_type": "code",
   "execution_count": 15,
   "id": "238a7467-94a8-40ab-bac7-d03af1188e9c",
   "metadata": {},
   "outputs": [],
   "source": [
    "import mlflow\n",
    "import mlflow.sklearn\n",
    "from sklearn.tree import DecisionTreeRegressor\n",
    "from sklearn.metrics import mean_absolute_error, mean_squared_error\n",
    "import matplotlib.pyplot as plt\n",
    "import numpy as np"
   ]
  },
  {
   "cell_type": "code",
   "execution_count": 18,
   "id": "f885f163-c147-4ea2-9ef7-c8a8bc3cf471",
   "metadata": {},
   "outputs": [
    {
     "name": "stderr",
     "output_type": "stream",
     "text": [
      "\u001b[31m2025/05/15 13:11:21 WARNING mlflow.models.model: Model logged without a signature and input example. Please set `input_example` parameter when logging the model to auto infer the model signature.\u001b[0m\n"
     ]
    },
    {
     "name": "stdout",
     "output_type": "stream",
     "text": [
      "Model training complete. MAE: 3.6803246669967646, RMSE: 7.088694908391736\n"
     ]
    },
    {
     "data": {
      "image/png": "[encoded data removed]",
      "text/plain": [
       "<Figure size 1000x600 with 1 Axes>"
      ]
     },
     "metadata": {},
     "output_type": "display_data"
    }
   ],
   "source": [
    "# Define the model \n",
    "model = DecisionTreeRegressor(max_depth=10, random_state=42)\n",
    "\n",
    "# Start an MLflow run \n",
    "with mlflow.start_run():\n",
    "    # Log model parameters\n",
    "    mlflow.log_param(\"model_type\", \"DecisionTreeRegressor\")\n",
    "    mlflow.log_param(\"max_depth\", 10)\n",
    "    #Train the Model \n",
    "    model.fit(X_train, y_train)\n",
    "    #Make predicition\n",
    "    predictions = model.predict(X_test)\n",
    "    # Calculate evaluation metrics\n",
    "    mae = mean_absolute_error(y_test, predictions)\n",
    "    rmse = np.sqrt(mean_squared_error(y_test, predictions))\n",
    "    #Log evaluation metrics \n",
    "    mlflow.log_metric(\"MAE\", mae)\n",
    "    mlflow.log_metric(\"RMSE\", rmse)\n",
    "    # Plot and log feature importance as an artifact\n",
    "    feature_importances = model.feature_importances_\n",
    "    plt.figure(figsize=(10, 6))\n",
    "    plt.barh(X_train.columns, feature_importances)\n",
    "    plt.title(\"Feature Importance\")\n",
    "    plt.savefig(\"feature_importance.png\")\n",
    "    #Log artifacts(the feature importance plot)\n",
    "    mlflow.log_artifact(\"feature_importance.png\")\n",
    "    #Log the model itself \n",
    "    mlflow.sklearn.log_model(model,\"model\")\n",
    "\n",
    "print(f\"Model training complete. MAE: {mae}, RMSE: {rmse}\")"
   ]
  },
  {
   "cell_type": "code",
   "execution_count": 19,
   "id": "19bd14c2-8a95-4e42-8de8-9208b0fbb378",
   "metadata": {},
   "outputs": [
    {
     "name": "stdout",
     "output_type": "stream",
     "text": [
      "file:///Users/shreyavaghani/Desktop/Personal%20DS%20projects/Bike-share-Prediction/BikeSharingMLops/notebooks/mlruns\n"
     ]
    }
   ],
   "source": [
    "print(mlflow.get_tracking_uri())"
   ]
  },
  {
   "cell_type": "markdown",
   "id": "67452cee-2fb1-41b4-8223-c88c9fb7db7e",
   "metadata": {},
   "source": [
    "## HyperTune Parameters - Log all the parameters"
   ]
  },
  {
   "cell_type": "code",
   "execution_count": 27,
   "id": "1b052bff-be66-4387-b380-caebe0a541be",
   "metadata": {},
   "outputs": [
    {
     "name": "stdout",
     "output_type": "stream",
     "text": [
      "Fitting 5 folds for each of 9 candidates, totalling 45 fits\n"
     ]
    },
    {
     "name": "stderr",
     "output_type": "stream",
     "text": [
      "\u001b[31m2025/05/15 14:20:04 WARNING mlflow.models.model: Model logged without a signature and input example. Please set `input_example` parameter when logging the model to auto infer the model signature.\u001b[0m\n"
     ]
    },
    {
     "name": "stdout",
     "output_type": "stream",
     "text": [
      "Best Hyperparameters: {'max_depth': 15, 'min_samples_split': 10}\n",
      "Test RMSE: 6.645717111734768\n"
     ]
    }
   ],
   "source": [
    "from itertools import product\n",
    "from sklearn.model_selection import GridSearchCV\n",
    "\n",
    "model = DecisionTreeRegressor(random_state=42)\n",
    "param_grid = {\n",
    "    'max_depth': [5, 10, 15],\n",
    "    'min_samples_split': [2, 10, 20]\n",
    "}\n",
    "\n",
    "with mlflow.start_run(run_name= \"GridSearch for Regressor\"):\n",
    "    # Set up the gridSearchCV\n",
    "    gridSearch = GridSearchCV(estimator=model, param_grid=param_grid, cv=5,\n",
    "                               scoring='neg_mean_squared_error', verbose=1, return_train_score=True)\n",
    "    gridSearch.fit(X_train, y_train)\n",
    "\n",
    "    for i,param in enumerate(gridSearch.cv_results_['params']):\n",
    "        meanScore = -gridSearch.cv_results_['mean_test_score'][i]\n",
    "        stdScore = gridSearch.cv_results_['std_test_score'][i]\n",
    "\n",
    "        with mlflow.start_run(run_name=f\"Params {i+1}\", nested=True):\n",
    "            mlflow.log_params(param)\n",
    "            mlflow.log_metric(\"mean_cv_rmse\", meanScore)\n",
    "            mlflow.log_metric(\"sd_cv_rmse\", stdScore)\n",
    "\n",
    "    best_params = gridSearch.best_params_\n",
    "    best_score = -gridSearch.best_score_\n",
    "\n",
    "    mlflow.log_params(best_params)\n",
    "    mlflow.log_metric(\"best_cv_rmse\", best_score)\n",
    "\n",
    "    best_model = gridSearch.best_estimator_\n",
    "    mlflow.sklearn.log_model(best_model, \"best_model\")\n",
    "\n",
    "    test_predictions = best_model.predict(X_test)\n",
    "    test_rmse = np.sqrt(mean_squared_error(y_test, test_predictions))\n",
    "    mlflow.log_metric(\"test_RMSE\", test_rmse)\n",
    "\n",
    "print(f\"Best Hyperparameters: {best_params}\")\n",
    "print(f\"Test RMSE: {test_rmse}\")\n"
   ]
  },
  {
   "cell_type": "code",
   "execution_count": null,
   "id": "36533312-0a99-4132-83da-71150c65e6bb",
   "metadata": {},
   "outputs": [],
   "source": []
  }
 ],
 "metadata": {
  "kernelspec": {
   "display_name": "Python 3 (ipykernel)",
   "language": "python",
   "name": "python3"
  },
  "language_info": {
   "codemirror_mode": {
    "name": "ipython",
    "version": 3
   },
   "file_extension": ".py",
   "mimetype": "text/x-python",
   "name": "python",
   "nbconvert_exporter": "python",
   "pygments_lexer": "ipython3",
   "version": "3.12.4"
  }
 },
 "nbformat": 4,
 "nbformat_minor": 5
}
